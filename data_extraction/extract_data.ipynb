{
 "cells": [
  {
   "cell_type": "code",
   "execution_count": 114,
   "metadata": {},
   "outputs": [],
   "source": [
    "#Imports\n",
    "from apikeys import CLIENT_ID, CLIENT_SECRET\n",
    "import requests\n",
    "from pprint import pprint\n",
    "import json"
   ]
  },
  {
   "cell_type": "code",
   "execution_count": 104,
   "metadata": {},
   "outputs": [],
   "source": [
    "#Get AUTH Token\n",
    "auth_url = 'https://accounts.spotify.com/api/token'\n",
    "\n",
    "auth_response = requests.post(auth_url, {\n",
    "    'grant_type': 'client_credentials',\n",
    "    'client_id': CLIENT_ID,\n",
    "    'client_secret': CLIENT_SECRET,\n",
    "})\n",
    "\n",
    "auth_response_data = auth_response.json()\n",
    "access_token = auth_response_data['access_token']\n",
    "headers = {\n",
    "    'Authorization': 'Bearer {token}'.format(token=access_token)\n",
    "}"
   ]
  },
  {
   "cell_type": "code",
   "execution_count": 105,
   "metadata": {},
   "outputs": [
    {
     "data": {
      "text/plain": [
       "[{'title': 'PetroDragonic Apocalypse; or, Dawn of Eternal Night: An Annihilation of Planet Earth and the Beginning of Merciless Damnation',\n",
       "  'id': '53X6xpjjMDMfZ5IWMyonvC'},\n",
       " {'title': 'Changes', 'id': '05ag5ukffFozEnXGOeuTTD'},\n",
       " {'title': 'Laminated Denim', 'id': '5f0IPVaiRNK0knLx8UbqIq'},\n",
       " {'title': 'Ice, Death, Planets, Lungs, Mushrooms And Lava',\n",
       "  'id': '2nPbslvl01lfELsFHTKp0s'},\n",
       " {'title': 'Omnium Gatherum', 'id': '4tuqA7qbVsPukqsYPPrcF7'},\n",
       " {'title': 'Made In Timeland', 'id': '6anq5ZXeQqz6DjPVQxlH5K'},\n",
       " {'title': 'Butterfly 3001', 'id': '3TdzFlwzVCTARiuC467NZK'},\n",
       " {'title': 'Butterfly 3000', 'id': '2I0LPpmyvAwnXvCuBf3Pcy'},\n",
       " {'title': 'L.W.', 'id': '7mGW0YccQQZPCD1acHaClx'},\n",
       " {'title': \"Live in San Francisco '16\", 'id': '1PtqcMET4XMzsQrQx35Xed'},\n",
       " {'title': 'K.G.', 'id': '6uuQKwM3fRETiscHqlnxuo'},\n",
       " {'title': 'Chunky Shrapnel', 'id': '5WEyTkaVXq4ZPW6CUOcgzC'},\n",
       " {'title': \"Infest The Rats' Nest\", 'id': '612LP8ZkujVEbvAfD8huGz'},\n",
       " {'title': 'Fishing for Fishies', 'id': '6U3BrGxxVCFa7Z6GBXiY7M'},\n",
       " {'title': 'Gumboot Soup', 'id': '7uDfs1lmoDlKJTGjLaipEg'},\n",
       " {'title': 'Polygondwanaland', 'id': '3esB4Gl0K2LKCgACUJa3mu'},\n",
       " {'title': 'Sketches of Brunswick East', 'id': '6eD0NNGuIdYPUbEPbUzLnE'},\n",
       " {'title': 'Murder of the Universe', 'id': '2y5bwmtV2nSBUrVoWzGXmS'},\n",
       " {'title': 'Flying Microtonal Banana', 'id': '4G9ANFGk9579p2uirMbVT0'},\n",
       " {'title': 'Nonagon Infinity', 'id': '4imRDpzmb4zwvxKhNzJhxr'},\n",
       " {'title': 'Paper Mâché Dream Balloon', 'id': '0RyezpNCj0HGTv2Mrwaat5'},\n",
       " {'title': 'Quarters!', 'id': '65qOl8k8K2SK3PYT0kF1W5'},\n",
       " {'title': \"I'm In Your Mind Fuzz\", 'id': '1rb4cp4F59Tk1UOPHuP3H0'},\n",
       " {'title': 'Oddments', 'id': '480wRHoZ8rOqp34KYGbD1Z'},\n",
       " {'title': 'Float Along – Fill Your Lungs', 'id': '3CyH29jDWWaIF9tv7A2zWG'},\n",
       " {'title': 'Eyes Like The Sky', 'id': '6eSBUWhUL2FP1rBUHvZQdo'},\n",
       " {'title': '12 Bar Bruise', 'id': '3Xrl4ba3KYr1dHgKCwdrdw'},\n",
       " {'title': 'Willoughby’s Beach', 'id': '3ZulpVxPqorONGkevjVu0i'}]"
      ]
     },
     "execution_count": 105,
     "metadata": {},
     "output_type": "execute_result"
    }
   ],
   "source": [
    "#Get KG Album List\n",
    "base_url = 'https://api.spotify.com/v1/'\n",
    "gizz_id = '6XYvaoDGE0VmRt83Jss9Sn'\n",
    "\n",
    "response = requests.get(base_url + 'artists/' + gizz_id + '/albums?limit=28', headers=headers).json()\n",
    "\n",
    "albums = []\n",
    "\n",
    "for album in response['items']:\n",
    "    album_dict = {'title':album['name'], 'id':album['id']}\n",
    "    albums.append(album_dict)\n",
    "albums"
   ]
  },
  {
   "cell_type": "code",
   "execution_count": 106,
   "metadata": {},
   "outputs": [
    {
     "data": {
      "text/plain": [
       "[{'title': 'PetroDragonic Apocalypse; or, Dawn of Eternal Night: An Annihilation of Planet Earth and the Beginning of Merciless Damnation',\n",
       "  'id': '53X6xpjjMDMfZ5IWMyonvC'},\n",
       " {'title': 'Changes', 'id': '05ag5ukffFozEnXGOeuTTD'},\n",
       " {'title': 'Laminated Denim', 'id': '5f0IPVaiRNK0knLx8UbqIq'},\n",
       " {'title': 'Ice, Death, Planets, Lungs, Mushrooms And Lava',\n",
       "  'id': '2nPbslvl01lfELsFHTKp0s'},\n",
       " {'title': 'Omnium Gatherum', 'id': '4tuqA7qbVsPukqsYPPrcF7'},\n",
       " {'title': 'Made In Timeland', 'id': '6anq5ZXeQqz6DjPVQxlH5K'},\n",
       " {'title': 'Butterfly 3000', 'id': '2I0LPpmyvAwnXvCuBf3Pcy'},\n",
       " {'title': 'L.W.', 'id': '7mGW0YccQQZPCD1acHaClx'},\n",
       " {'title': 'K.G.', 'id': '6uuQKwM3fRETiscHqlnxuo'},\n",
       " {'title': \"Infest The Rats' Nest\", 'id': '612LP8ZkujVEbvAfD8huGz'},\n",
       " {'title': 'Fishing for Fishies', 'id': '6U3BrGxxVCFa7Z6GBXiY7M'},\n",
       " {'title': 'Gumboot Soup', 'id': '7uDfs1lmoDlKJTGjLaipEg'},\n",
       " {'title': 'Polygondwanaland', 'id': '3esB4Gl0K2LKCgACUJa3mu'},\n",
       " {'title': 'Sketches of Brunswick East', 'id': '6eD0NNGuIdYPUbEPbUzLnE'},\n",
       " {'title': 'Murder of the Universe', 'id': '2y5bwmtV2nSBUrVoWzGXmS'},\n",
       " {'title': 'Flying Microtonal Banana', 'id': '4G9ANFGk9579p2uirMbVT0'},\n",
       " {'title': 'Nonagon Infinity', 'id': '4imRDpzmb4zwvxKhNzJhxr'},\n",
       " {'title': 'Paper Mâché Dream Balloon', 'id': '0RyezpNCj0HGTv2Mrwaat5'},\n",
       " {'title': 'Quarters!', 'id': '65qOl8k8K2SK3PYT0kF1W5'},\n",
       " {'title': \"I'm In Your Mind Fuzz\", 'id': '1rb4cp4F59Tk1UOPHuP3H0'},\n",
       " {'title': 'Oddments', 'id': '480wRHoZ8rOqp34KYGbD1Z'},\n",
       " {'title': 'Float Along – Fill Your Lungs', 'id': '3CyH29jDWWaIF9tv7A2zWG'},\n",
       " {'title': 'Eyes Like The Sky', 'id': '6eSBUWhUL2FP1rBUHvZQdo'},\n",
       " {'title': '12 Bar Bruise', 'id': '3Xrl4ba3KYr1dHgKCwdrdw'},\n",
       " {'title': 'Willoughby’s Beach', 'id': '3ZulpVxPqorONGkevjVu0i'}]"
      ]
     },
     "execution_count": 106,
     "metadata": {},
     "output_type": "execute_result"
    }
   ],
   "source": [
    "#Remove Unwanted Albums\n",
    "for album in albums:\n",
    "    if (album['title'] == 'Butterfly 3001') | (album['title'] == \"Live in San Francisco '16\") | (album['title'] == 'Chunky Shrapnel'):\n",
    "        albums.remove(album)\n",
    "albums"
   ]
  },
  {
   "cell_type": "code",
   "execution_count": 107,
   "metadata": {},
   "outputs": [],
   "source": [
    "#Get song list for each album\n",
    "tracks = []\n",
    "for album in albums:\n",
    "    tracklist = []\n",
    "    response = requests.get(base_url + 'albums/' + album['id'] + '/tracks?limit=30', headers=headers).json()\n",
    "    for track in response['items']:\n",
    "        tracklist.append({'title': track['name'], 'id': track['id']})\n",
    "    tracks.append({'title': album['title'], 'tracks': tracklist})"
   ]
  },
  {
   "cell_type": "code",
   "execution_count": 108,
   "metadata": {},
   "outputs": [
    {
     "name": "stdout",
     "output_type": "stream",
     "text": [
      "{'acousticness': 0.000119,\n",
      " 'analysis_url': 'https://api.spotify.com/v1/audio-analysis/5XkNUvzFQUCBu39tWRVO15',\n",
      " 'danceability': 0.384,\n",
      " 'duration_ms': 561158,\n",
      " 'energy': 0.948,\n",
      " 'id': '5XkNUvzFQUCBu39tWRVO15',\n",
      " 'instrumentalness': 0.103,\n",
      " 'key': 7,\n",
      " 'liveness': 0.0865,\n",
      " 'loudness': -7.589,\n",
      " 'mode': 1,\n",
      " 'speechiness': 0.0836,\n",
      " 'tempo': 90.758,\n",
      " 'time_signature': 4,\n",
      " 'track_href': 'https://api.spotify.com/v1/tracks/5XkNUvzFQUCBu39tWRVO15',\n",
      " 'type': 'audio_features',\n",
      " 'uri': 'spotify:track:5XkNUvzFQUCBu39tWRVO15',\n",
      " 'valence': 0.24}\n"
     ]
    }
   ],
   "source": [
    "response = requests.get(base_url + 'audio-features/' + '5XkNUvzFQUCBu39tWRVO15', headers=headers).json()\n",
    "pprint(response)"
   ]
  },
  {
   "cell_type": "code",
   "execution_count": 112,
   "metadata": {},
   "outputs": [],
   "source": [
    "#Get Audio Features for each Track\n",
    "for album in tracks:\n",
    "    for track in album['tracks']:\n",
    "        response = requests.get(base_url + 'audio-features/' + track['id'], headers=headers).json()\n",
    "        track['features'] = response"
   ]
  },
  {
   "cell_type": "code",
   "execution_count": 117,
   "metadata": {},
   "outputs": [],
   "source": [
    "#Save JSON\n",
    "with open('Outputs/gizz_data.json', 'w', encoding='utf-8') as f:\n",
    "    json.dump(tracks, f, ensure_ascii=False, indent=4)"
   ]
  }
 ],
 "metadata": {
  "kernelspec": {
   "display_name": "base",
   "language": "python",
   "name": "python3"
  },
  "language_info": {
   "codemirror_mode": {
    "name": "ipython",
    "version": 3
   },
   "file_extension": ".py",
   "mimetype": "text/x-python",
   "name": "python",
   "nbconvert_exporter": "python",
   "pygments_lexer": "ipython3",
   "version": "3.9.13"
  },
  "orig_nbformat": 4
 },
 "nbformat": 4,
 "nbformat_minor": 2
}
